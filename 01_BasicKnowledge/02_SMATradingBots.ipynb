{
 "cells": [
  {
   "cell_type": "markdown",
   "id": "37ec6d29",
   "metadata": {},
   "source": [
    "After writing our first super stupid and simple trading bot let us now advance into a more advanced area: SMA trading bots. \n",
    "\n",
    "SMA stands for Simple Moving Averages, which are kind of like \"smoothed\" lines of the price. Let us take a look:"
   ]
  },
  {
   "cell_type": "code",
   "execution_count": 1,
   "id": "5fb90087",
   "metadata": {},
   "outputs": [],
   "source": [
    "import pandas as pd\n",
    "import matplotlib.pyplot as plt\n",
    "import numpy as np\n",
    "import yfinance as yf\n",
    "from datetime import datetime\n",
    "from tqdm import tqdm"
   ]
  },
  {
   "cell_type": "code",
   "execution_count": 10,
   "id": "7fdb81e5",
   "metadata": {},
   "outputs": [
    {
     "name": "stdout",
     "output_type": "stream",
     "text": [
      "[*********************100%***********************]  1 of 1 completed\n"
     ]
    },
    {
     "data": {
      "text/html": [
       "<div>\n",
       "<style scoped>\n",
       "    .dataframe tbody tr th:only-of-type {\n",
       "        vertical-align: middle;\n",
       "    }\n",
       "\n",
       "    .dataframe tbody tr th {\n",
       "        vertical-align: top;\n",
       "    }\n",
       "\n",
       "    .dataframe thead th {\n",
       "        text-align: right;\n",
       "    }\n",
       "</style>\n",
       "<table border=\"1\" class=\"dataframe\">\n",
       "  <thead>\n",
       "    <tr style=\"text-align: right;\">\n",
       "      <th></th>\n",
       "      <th>Open</th>\n",
       "      <th>High</th>\n",
       "      <th>Low</th>\n",
       "      <th>Close</th>\n",
       "      <th>Adj Close</th>\n",
       "      <th>Volume</th>\n",
       "    </tr>\n",
       "    <tr>\n",
       "      <th>Date</th>\n",
       "      <th></th>\n",
       "      <th></th>\n",
       "      <th></th>\n",
       "      <th></th>\n",
       "      <th></th>\n",
       "      <th></th>\n",
       "    </tr>\n",
       "  </thead>\n",
       "  <tbody>\n",
       "    <tr>\n",
       "      <th>2021-03-12</th>\n",
       "      <td>120.400002</td>\n",
       "      <td>121.169998</td>\n",
       "      <td>119.160004</td>\n",
       "      <td>121.029999</td>\n",
       "      <td>121.029999</td>\n",
       "      <td>87963400</td>\n",
       "    </tr>\n",
       "    <tr>\n",
       "      <th>2021-03-15</th>\n",
       "      <td>121.410004</td>\n",
       "      <td>124.000000</td>\n",
       "      <td>120.419998</td>\n",
       "      <td>123.989998</td>\n",
       "      <td>123.989998</td>\n",
       "      <td>92403800</td>\n",
       "    </tr>\n",
       "    <tr>\n",
       "      <th>2021-03-16</th>\n",
       "      <td>125.699997</td>\n",
       "      <td>127.220001</td>\n",
       "      <td>124.720001</td>\n",
       "      <td>125.570000</td>\n",
       "      <td>125.570000</td>\n",
       "      <td>114740000</td>\n",
       "    </tr>\n",
       "    <tr>\n",
       "      <th>2021-03-17</th>\n",
       "      <td>124.050003</td>\n",
       "      <td>125.860001</td>\n",
       "      <td>122.339996</td>\n",
       "      <td>124.760002</td>\n",
       "      <td>124.760002</td>\n",
       "      <td>111437500</td>\n",
       "    </tr>\n",
       "    <tr>\n",
       "      <th>2021-03-18</th>\n",
       "      <td>122.879997</td>\n",
       "      <td>123.180000</td>\n",
       "      <td>120.320000</td>\n",
       "      <td>120.529999</td>\n",
       "      <td>120.529999</td>\n",
       "      <td>121229700</td>\n",
       "    </tr>\n",
       "  </tbody>\n",
       "</table>\n",
       "</div>"
      ],
      "text/plain": [
       "                  Open        High         Low       Close   Adj Close  \\\n",
       "Date                                                                     \n",
       "2021-03-12  120.400002  121.169998  119.160004  121.029999  121.029999   \n",
       "2021-03-15  121.410004  124.000000  120.419998  123.989998  123.989998   \n",
       "2021-03-16  125.699997  127.220001  124.720001  125.570000  125.570000   \n",
       "2021-03-17  124.050003  125.860001  122.339996  124.760002  124.760002   \n",
       "2021-03-18  122.879997  123.180000  120.320000  120.529999  120.529999   \n",
       "\n",
       "               Volume  \n",
       "Date                   \n",
       "2021-03-12   87963400  \n",
       "2021-03-15   92403800  \n",
       "2021-03-16  114740000  \n",
       "2021-03-17  111437500  \n",
       "2021-03-18  121229700  "
      ]
     },
     "execution_count": 10,
     "metadata": {},
     "output_type": "execute_result"
    }
   ],
   "source": [
    "data = yf.download(\"AAPL\",interval=\"1d\",period=\"30d\")\n",
    "data.head()"
   ]
  },
  {
   "cell_type": "code",
   "execution_count": 11,
   "id": "43b6ec9e",
   "metadata": {},
   "outputs": [
    {
     "data": {
      "text/plain": [
       "[<matplotlib.lines.Line2D at 0x7f6d71cc5e20>]"
      ]
     },
     "execution_count": 11,
     "metadata": {},
     "output_type": "execute_result"
    },
    {
     "data": {
      "image/png": "[encoded data removed]",
      "text/plain": [
       "<Figure size 432x288 with 1 Axes>"
      ]
     },
     "metadata": {
      "needs_background": "light"
     },
     "output_type": "display_data"
    }
   ],
   "source": [
    "plt.plot(data[\"Close\"])"
   ]
  },
  {
   "cell_type": "markdown",
   "id": "f2d605e6",
   "metadata": {},
   "source": [
    "## SMA explained"
   ]
  },
  {
   "cell_type": "code",
   "execution_count": 18,
   "id": "7b2f2a6c",
   "metadata": {},
   "outputs": [
    {
     "data": {
      "text/html": [
       "<div>\n",
       "<style scoped>\n",
       "    .dataframe tbody tr th:only-of-type {\n",
       "        vertical-align: middle;\n",
       "    }\n",
       "\n",
       "    .dataframe tbody tr th {\n",
       "        vertical-align: top;\n",
       "    }\n",
       "\n",
       "    .dataframe thead th {\n",
       "        text-align: right;\n",
       "    }\n",
       "</style>\n",
       "<table border=\"1\" class=\"dataframe\">\n",
       "  <thead>\n",
       "    <tr style=\"text-align: right;\">\n",
       "      <th></th>\n",
       "      <th>Open</th>\n",
       "      <th>High</th>\n",
       "      <th>Low</th>\n",
       "      <th>Close</th>\n",
       "      <th>Adj Close</th>\n",
       "      <th>Volume</th>\n",
       "      <th>SMA_5</th>\n",
       "      <th>SMA_20</th>\n",
       "    </tr>\n",
       "    <tr>\n",
       "      <th>Date</th>\n",
       "      <th></th>\n",
       "      <th></th>\n",
       "      <th></th>\n",
       "      <th></th>\n",
       "      <th></th>\n",
       "      <th></th>\n",
       "      <th></th>\n",
       "      <th></th>\n",
       "    </tr>\n",
       "  </thead>\n",
       "  <tbody>\n",
       "    <tr>\n",
       "      <th>2021-03-12</th>\n",
       "      <td>120.400002</td>\n",
       "      <td>121.169998</td>\n",
       "      <td>119.160004</td>\n",
       "      <td>121.029999</td>\n",
       "      <td>121.029999</td>\n",
       "      <td>87963400</td>\n",
       "      <td>NaN</td>\n",
       "      <td>NaN</td>\n",
       "    </tr>\n",
       "    <tr>\n",
       "      <th>2021-03-15</th>\n",
       "      <td>121.410004</td>\n",
       "      <td>124.000000</td>\n",
       "      <td>120.419998</td>\n",
       "      <td>123.989998</td>\n",
       "      <td>123.989998</td>\n",
       "      <td>92403800</td>\n",
       "      <td>NaN</td>\n",
       "      <td>NaN</td>\n",
       "    </tr>\n",
       "    <tr>\n",
       "      <th>2021-03-16</th>\n",
       "      <td>125.699997</td>\n",
       "      <td>127.220001</td>\n",
       "      <td>124.720001</td>\n",
       "      <td>125.570000</td>\n",
       "      <td>125.570000</td>\n",
       "      <td>114740000</td>\n",
       "      <td>NaN</td>\n",
       "      <td>NaN</td>\n",
       "    </tr>\n",
       "    <tr>\n",
       "      <th>2021-03-17</th>\n",
       "      <td>124.050003</td>\n",
       "      <td>125.860001</td>\n",
       "      <td>122.339996</td>\n",
       "      <td>124.760002</td>\n",
       "      <td>124.760002</td>\n",
       "      <td>111437500</td>\n",
       "      <td>NaN</td>\n",
       "      <td>NaN</td>\n",
       "    </tr>\n",
       "    <tr>\n",
       "      <th>2021-03-18</th>\n",
       "      <td>122.879997</td>\n",
       "      <td>123.180000</td>\n",
       "      <td>120.320000</td>\n",
       "      <td>120.529999</td>\n",
       "      <td>120.529999</td>\n",
       "      <td>121229700</td>\n",
       "      <td>123.175999</td>\n",
       "      <td>NaN</td>\n",
       "    </tr>\n",
       "  </tbody>\n",
       "</table>\n",
       "</div>"
      ],
      "text/plain": [
       "                  Open        High         Low       Close   Adj Close  \\\n",
       "Date                                                                     \n",
       "2021-03-12  120.400002  121.169998  119.160004  121.029999  121.029999   \n",
       "2021-03-15  121.410004  124.000000  120.419998  123.989998  123.989998   \n",
       "2021-03-16  125.699997  127.220001  124.720001  125.570000  125.570000   \n",
       "2021-03-17  124.050003  125.860001  122.339996  124.760002  124.760002   \n",
       "2021-03-18  122.879997  123.180000  120.320000  120.529999  120.529999   \n",
       "\n",
       "               Volume       SMA_5  SMA_20  \n",
       "Date                                       \n",
       "2021-03-12   87963400         NaN     NaN  \n",
       "2021-03-15   92403800         NaN     NaN  \n",
       "2021-03-16  114740000         NaN     NaN  \n",
       "2021-03-17  111437500         NaN     NaN  \n",
       "2021-03-18  121229700  123.175999     NaN  "
      ]
     },
     "execution_count": 18,
     "metadata": {},
     "output_type": "execute_result"
    }
   ],
   "source": [
    "# take the average of 5 days for the close price and add it into a new column called \"SMA_5\"\n",
    "data[\"SMA_5\"] = data[\"Close\"].rolling(window=5).mean()\n",
    "# do the same for an average of 20 days\n",
    "data[\"SMA_20\"] = data[\"Close\"].rolling(window=20).mean()\n",
    "data.head()"
   ]
  },
  {
   "cell_type": "markdown",
   "id": "cdebba13",
   "metadata": {},
   "source": [
    "## removing NAN values\n",
    "\n",
    "why the weird nan values? As a SMA is an average over x days, the first average can only be calculated AFTER x days, which fills our array with NaN (None) values. We should remove those, and there are several different techniques for this. E.g. filling it with zeroes, or the median values of the frame. Let us go with the median route as this tends to be most stable (but causes other problems which we will discuss later)."
   ]
  },
  {
   "cell_type": "code",
   "execution_count": 20,
   "id": "ccd4e57f",
   "metadata": {},
   "outputs": [
    {
     "data": {
      "text/html": [
       "<div>\n",
       "<style scoped>\n",
       "    .dataframe tbody tr th:only-of-type {\n",
       "        vertical-align: middle;\n",
       "    }\n",
       "\n",
       "    .dataframe tbody tr th {\n",
       "        vertical-align: top;\n",
       "    }\n",
       "\n",
       "    .dataframe thead th {\n",
       "        text-align: right;\n",
       "    }\n",
       "</style>\n",
       "<table border=\"1\" class=\"dataframe\">\n",
       "  <thead>\n",
       "    <tr style=\"text-align: right;\">\n",
       "      <th></th>\n",
       "      <th>Open</th>\n",
       "      <th>High</th>\n",
       "      <th>Low</th>\n",
       "      <th>Close</th>\n",
       "      <th>Adj Close</th>\n",
       "      <th>Volume</th>\n",
       "      <th>SMA_5</th>\n",
       "      <th>SMA_20</th>\n",
       "    </tr>\n",
       "    <tr>\n",
       "      <th>Date</th>\n",
       "      <th></th>\n",
       "      <th></th>\n",
       "      <th></th>\n",
       "      <th></th>\n",
       "      <th></th>\n",
       "      <th></th>\n",
       "      <th></th>\n",
       "      <th></th>\n",
       "    </tr>\n",
       "  </thead>\n",
       "  <tbody>\n",
       "    <tr>\n",
       "      <th>2021-03-12</th>\n",
       "      <td>120.400002</td>\n",
       "      <td>121.169998</td>\n",
       "      <td>119.160004</td>\n",
       "      <td>121.029999</td>\n",
       "      <td>121.029999</td>\n",
       "      <td>87963400</td>\n",
       "      <td>124.232001</td>\n",
       "      <td>126.199</td>\n",
       "    </tr>\n",
       "    <tr>\n",
       "      <th>2021-03-15</th>\n",
       "      <td>121.410004</td>\n",
       "      <td>124.000000</td>\n",
       "      <td>120.419998</td>\n",
       "      <td>123.989998</td>\n",
       "      <td>123.989998</td>\n",
       "      <td>92403800</td>\n",
       "      <td>124.232001</td>\n",
       "      <td>126.199</td>\n",
       "    </tr>\n",
       "    <tr>\n",
       "      <th>2021-03-16</th>\n",
       "      <td>125.699997</td>\n",
       "      <td>127.220001</td>\n",
       "      <td>124.720001</td>\n",
       "      <td>125.570000</td>\n",
       "      <td>125.570000</td>\n",
       "      <td>114740000</td>\n",
       "      <td>124.232001</td>\n",
       "      <td>126.199</td>\n",
       "    </tr>\n",
       "    <tr>\n",
       "      <th>2021-03-17</th>\n",
       "      <td>124.050003</td>\n",
       "      <td>125.860001</td>\n",
       "      <td>122.339996</td>\n",
       "      <td>124.760002</td>\n",
       "      <td>124.760002</td>\n",
       "      <td>111437500</td>\n",
       "      <td>124.232001</td>\n",
       "      <td>126.199</td>\n",
       "    </tr>\n",
       "    <tr>\n",
       "      <th>2021-03-18</th>\n",
       "      <td>122.879997</td>\n",
       "      <td>123.180000</td>\n",
       "      <td>120.320000</td>\n",
       "      <td>120.529999</td>\n",
       "      <td>120.529999</td>\n",
       "      <td>121229700</td>\n",
       "      <td>123.175999</td>\n",
       "      <td>126.199</td>\n",
       "    </tr>\n",
       "  </tbody>\n",
       "</table>\n",
       "</div>"
      ],
      "text/plain": [
       "                  Open        High         Low       Close   Adj Close  \\\n",
       "Date                                                                     \n",
       "2021-03-12  120.400002  121.169998  119.160004  121.029999  121.029999   \n",
       "2021-03-15  121.410004  124.000000  120.419998  123.989998  123.989998   \n",
       "2021-03-16  125.699997  127.220001  124.720001  125.570000  125.570000   \n",
       "2021-03-17  124.050003  125.860001  122.339996  124.760002  124.760002   \n",
       "2021-03-18  122.879997  123.180000  120.320000  120.529999  120.529999   \n",
       "\n",
       "               Volume       SMA_5   SMA_20  \n",
       "Date                                        \n",
       "2021-03-12   87963400  124.232001  126.199  \n",
       "2021-03-15   92403800  124.232001  126.199  \n",
       "2021-03-16  114740000  124.232001  126.199  \n",
       "2021-03-17  111437500  124.232001  126.199  \n",
       "2021-03-18  121229700  123.175999  126.199  "
      ]
     },
     "execution_count": 20,
     "metadata": {},
     "output_type": "execute_result"
    }
   ],
   "source": [
    "data = data.fillna(data.median())\n",
    "data.head()"
   ]
  },
  {
   "cell_type": "markdown",
   "id": "58d8e323",
   "metadata": {},
   "source": [
    "## Visualizing the SMA values"
   ]
  },
  {
   "cell_type": "code",
   "execution_count": 22,
   "id": "982dbbec",
   "metadata": {},
   "outputs": [
    {
     "data": {
      "text/plain": [
       "<matplotlib.legend.Legend at 0x7f6d71d48f40>"
      ]
     },
     "execution_count": 22,
     "metadata": {},
     "output_type": "execute_result"
    },
    {
     "data": {
      "image/png": "[encoded data removed]",
      "text/plain": [
       "<Figure size 432x288 with 1 Axes>"
      ]
     },
     "metadata": {
      "needs_background": "light"
     },
     "output_type": "display_data"
    }
   ],
   "source": [
    "# let's visualize it!\n",
    "plt.plot(data[\"Close\"],label=\"real price\")\n",
    "plt.plot(data[\"SMA_5\"],label=\"SMA_5 price\")\n",
    "plt.plot(data[\"SMA_20\"],label=\"SMA_20 price\")\n",
    "plt.legend()"
   ]
  },
  {
   "cell_type": "markdown",
   "id": "6a62365d",
   "metadata": {},
   "source": [
    "# The SMA trading strategy\n",
    "\n",
    "One trading strategy that is quite established goes as follows: If the \"fast\" (shorter) SMA value crosses the \"slow\" (higher) SMA value, it indicates an upwards-trend. The same goes in the other direction. Meaning a trading strategy utilizing this would buy at an upwards-cross, and sell at an downwards-cross.\n",
    "\n",
    "Let's visualize it again:\n",
    "\n",
    "The area where the SMA_5 line is on top of the SMA_20 line is an **upwards-trend**\n",
    "\n",
    "The are where the SMA_20 line is on top of the SMA_5 line is an **downwards-trend**"
   ]
  },
  {
   "cell_type": "code",
   "execution_count": 1,
   "id": "44212a9b",
   "metadata": {},
   "outputs": [
    {
     "ename": "NameError",
     "evalue": "name 'yf' is not defined",
     "output_type": "error",
     "traceback": [
      "\u001b[0;31m---------------------------------------------------------------------------\u001b[0m",
      "\u001b[0;31mNameError\u001b[0m                                 Traceback (most recent call last)",
      "\u001b[0;32m<ipython-input-1-64f94728d99a>\u001b[0m in \u001b[0;36m<module>\u001b[0;34m\u001b[0m\n\u001b[0;32m----> 1\u001b[0;31m \u001b[0mdata\u001b[0m \u001b[0;34m=\u001b[0m \u001b[0myf\u001b[0m\u001b[0;34m.\u001b[0m\u001b[0mdownload\u001b[0m\u001b[0;34m(\u001b[0m\u001b[0;34m\"AAPL\"\u001b[0m\u001b[0;34m,\u001b[0m\u001b[0minterval\u001b[0m\u001b[0;34m=\u001b[0m\u001b[0;34m\"1d\"\u001b[0m\u001b[0;34m,\u001b[0m\u001b[0mperiod\u001b[0m\u001b[0;34m=\u001b[0m\u001b[0;34m\"1y\"\u001b[0m\u001b[0;34m)\u001b[0m\u001b[0;34m\u001b[0m\u001b[0;34m\u001b[0m\u001b[0m\n\u001b[0m\u001b[1;32m      2\u001b[0m \u001b[0mdata\u001b[0m\u001b[0;34m[\u001b[0m\u001b[0;34m\"SMA_5\"\u001b[0m\u001b[0;34m]\u001b[0m \u001b[0;34m=\u001b[0m \u001b[0mdata\u001b[0m\u001b[0;34m[\u001b[0m\u001b[0;34m\"Close\"\u001b[0m\u001b[0;34m]\u001b[0m\u001b[0;34m.\u001b[0m\u001b[0mrolling\u001b[0m\u001b[0;34m(\u001b[0m\u001b[0mwindow\u001b[0m\u001b[0;34m=\u001b[0m\u001b[0;36m5\u001b[0m\u001b[0;34m)\u001b[0m\u001b[0;34m.\u001b[0m\u001b[0mmean\u001b[0m\u001b[0;34m(\u001b[0m\u001b[0;34m)\u001b[0m\u001b[0;34m\u001b[0m\u001b[0;34m\u001b[0m\u001b[0m\n\u001b[1;32m      3\u001b[0m \u001b[0mdata\u001b[0m\u001b[0;34m[\u001b[0m\u001b[0;34m\"SMA_20\"\u001b[0m\u001b[0;34m]\u001b[0m \u001b[0;34m=\u001b[0m \u001b[0mdata\u001b[0m\u001b[0;34m[\u001b[0m\u001b[0;34m\"Close\"\u001b[0m\u001b[0;34m]\u001b[0m\u001b[0;34m.\u001b[0m\u001b[0mrolling\u001b[0m\u001b[0;34m(\u001b[0m\u001b[0mwindow\u001b[0m\u001b[0;34m=\u001b[0m\u001b[0;36m20\u001b[0m\u001b[0;34m)\u001b[0m\u001b[0;34m.\u001b[0m\u001b[0mmean\u001b[0m\u001b[0;34m(\u001b[0m\u001b[0;34m)\u001b[0m\u001b[0;34m\u001b[0m\u001b[0;34m\u001b[0m\u001b[0m\n\u001b[1;32m      4\u001b[0m \u001b[0mdata\u001b[0m \u001b[0;34m=\u001b[0m \u001b[0mdata\u001b[0m\u001b[0;34m.\u001b[0m\u001b[0mfillna\u001b[0m\u001b[0;34m(\u001b[0m\u001b[0mdata\u001b[0m\u001b[0;34m.\u001b[0m\u001b[0mmedian\u001b[0m\u001b[0;34m(\u001b[0m\u001b[0;34m)\u001b[0m\u001b[0;34m)\u001b[0m\u001b[0;34m\u001b[0m\u001b[0;34m\u001b[0m\u001b[0m\n\u001b[1;32m      5\u001b[0m \u001b[0;34m\u001b[0m\u001b[0m\n",
      "\u001b[0;31mNameError\u001b[0m: name 'yf' is not defined"
     ]
    }
   ],
   "source": [
    "data = yf.download(\"AAPL\",interval=\"1d\",period=\"1y\")\n",
    "data[\"SMA_5\"] = data[\"Close\"].rolling(window=5).mean()\n",
    "data[\"SMA_20\"] = data[\"Close\"].rolling(window=20).mean()\n",
    "data = data.fillna(data.median())\n",
    "\n",
    "\n",
    "plt.plot(data[\"Close\"],label=\"real price\")\n",
    "plt.plot(data[\"SMA_5\"],label=\"SMA_5 price\")\n",
    "plt.plot(data[\"SMA_20\"],label=\"SMA_20 price\")\n",
    "plt.legend()"
   ]
  },
  {
   "cell_type": "markdown",
   "id": "7cdac0c2",
   "metadata": {},
   "source": [
    "# Writing a SMA trading bot\n",
    "\n",
    "We will reuse the structure of 01_OurFirstBot for this. Keep in mind that it is full of errors that we will come to later, so do not use it in real-life!"
   ]
  },
  {
   "cell_type": "code",
   "execution_count": 38,
   "id": "3410067b",
   "metadata": {},
   "outputs": [],
   "source": [
    "# this function symbolizes the buying process of a long stock\n",
    "def longBuy(crntMoney,nrStocks,crntPrice):\n",
    "    # get a whole number of how many stocks we can buy with our money\n",
    "    howMany = int(crntMoney/crntPrice)\n",
    "    cost = howMany * crntPrice\n",
    "    # substract that cost from our current Money\n",
    "    crntMoney -= cost\n",
    "    # add the nr of stocks we just bought to out nrStocks tracker\n",
    "    nrStocks += howMany\n",
    "    return crntMoney,nrStocks\n",
    "\n",
    "def longSell(crntMoney,nrStocks,crntPrice):\n",
    "    # pay out the amount of stocks times current Price\n",
    "    crntMoney += nrStocks * crntPrice\n",
    "    nrStocks -= nrStocks # we could set it to 0, but we want to symbolize the trade logic\n",
    "    return crntMoney,nrStocks"
   ]
  },
  {
   "cell_type": "code",
   "execution_count": 39,
   "id": "3cc5adcc",
   "metadata": {},
   "outputs": [
    {
     "name": "stdout",
     "output_type": "stream",
     "text": [
      "2020-07-31 00:00:00  Buying stock for 106.26$\n",
      "2020-09-09 00:00:00  Selling stock for 117.32$\n",
      "2020-10-01 00:00:00  Buying stock for 116.79$\n",
      "2020-10-23 00:00:00  Selling stock for 115.04$\n",
      "2020-11-10 00:00:00  Buying stock for 115.97$\n",
      "2020-11-25 00:00:00  Selling stock for 116.03$\n",
      "2020-12-01 00:00:00  Buying stock for 122.72$\n",
      "2021-01-12 00:00:00  Selling stock for 128.80$\n",
      "2021-01-22 00:00:00  Buying stock for 139.07$\n",
      "2021-02-12 00:00:00  Selling stock for 135.37$\n",
      "2021-03-18 00:00:00  Buying stock for 120.53$\n",
      "2021-03-23 00:00:00  Selling stock for 122.54$\n",
      "2021-04-05 00:00:00  Buying stock for 125.90$\n",
      "\n",
      "\n",
      "Your portfolio value is: 12060.01$\n",
      "Which is a win of: 2060.01$\n"
     ]
    }
   ],
   "source": [
    "# tqdm is showing us a progress bar, but basically we are just looping through our Close prices in the data array\n",
    "\n",
    "# reset values\n",
    "startMoney = 10000\n",
    "crntMoney = startMoney\n",
    "nrStocks = 0 \n",
    "\n",
    "for i,(crntPrice,sma5,sma20) in enumerate(data[[\"Close\",\"SMA_5\",\"SMA_20\"]].values):\n",
    "    if i > 0:\n",
    "        crntHoldings = nrStocks\n",
    "        sma5_yesterday = data[\"SMA_5\"][i-1]\n",
    "        sma20_yesterday = data[\"SMA_20\"][i-1]\n",
    "\n",
    "        # start the logic\n",
    "        if sma5_yesterday <= sma20_yesterday and sma5 > sma20:\n",
    "            # if sma5 has been below or equal sma20 yesterday, and now it crossed upwards -> upwardstrend\n",
    "            if crntHoldings == 0: # and we do not have stocks yet\n",
    "                print(data.index[i],\" Buying stock for %.2f$\" % crntPrice)\n",
    "                crntMoney,nrStocks = longBuy(crntMoney,nrStocks,crntPrice)\n",
    "        elif sma5_yesterday >= sma20_yesterday and sma5 < sma20:\n",
    "            # if sma5 has been above or equal sma20 yesterday, and now it crossed downwards -> downwardstrend\n",
    "            if crntHoldings > 0: # can only sell if we have any stocks\n",
    "                print(data.index[i],\" Selling stock for %.2f$\" % crntPrice)\n",
    "                crntMoney,nrStocks = longSell(crntMoney,nrStocks,crntPrice)\n",
    "# in the end calculate the value of our portfolio, which is the cash value (crntMoney), and the nrStocks value\n",
    "portfolioValue = crntMoney + (nrStocks * crntPrice)\n",
    "\n",
    "print(\"\\n\\nYour portfolio value is: %.2f$\" % portfolioValue)\n",
    "earnings = portfolioValue - startMoney\n",
    "print(\"Which is a win of: %.2f$\" % earnings)"
   ]
  },
  {
   "cell_type": "markdown",
   "id": "0a1a440e",
   "metadata": {},
   "source": [
    "### first tweaks to our trading-framework\n",
    "\n",
    "nice! 2060$ earnings at least in my case!\n",
    "But as I stated, this will unfortunately not be the reality, as we are still ignoring a lot of errors for the sake of simplicity. But let us start by tweaking our framework step by step. \n",
    "Now we are going to add a way to symbolize the value of our portfolio\n",
    "\n",
    "A new variable portfolioValue will be introduced tracking the current value at each day\n",
    "\n"
   ]
  },
  {
   "cell_type": "code",
   "execution_count": 41,
   "id": "d559cd70",
   "metadata": {},
   "outputs": [
    {
     "name": "stdout",
     "output_type": "stream",
     "text": [
      "2020-07-31 00:00:00  Buying stock for 106.26$\n",
      "2020-09-09 00:00:00  Selling stock for 117.32$\n",
      "2020-10-01 00:00:00  Buying stock for 116.79$\n",
      "2020-10-23 00:00:00  Selling stock for 115.04$\n",
      "2020-11-10 00:00:00  Buying stock for 115.97$\n",
      "2020-11-25 00:00:00  Selling stock for 116.03$\n",
      "2020-12-01 00:00:00  Buying stock for 122.72$\n",
      "2021-01-12 00:00:00  Selling stock for 128.80$\n",
      "2021-01-22 00:00:00  Buying stock for 139.07$\n",
      "2021-02-12 00:00:00  Selling stock for 135.37$\n",
      "2021-03-18 00:00:00  Buying stock for 120.53$\n",
      "2021-03-23 00:00:00  Selling stock for 122.54$\n",
      "2021-04-05 00:00:00  Buying stock for 125.90$\n",
      "\n",
      "\n",
      "Your portfolio value is: 12060.01$\n",
      "Which is a win of: 2060.01$\n"
     ]
    },
    {
     "data": {
      "text/plain": [
       "Text(0.5, 1.0, 'Portfolio Value in USD')"
      ]
     },
     "execution_count": 41,
     "metadata": {},
     "output_type": "execute_result"
    },
    {
     "data": {
      "image/png": "[encoded data removed]",
      "text/plain": [
       "<Figure size 432x288 with 1 Axes>"
      ]
     },
     "metadata": {
      "needs_background": "light"
     },
     "output_type": "display_data"
    }
   ],
   "source": [
    "# tqdm is showing us a progress bar, but basically we are just looping through our Close prices in the data array\n",
    "\n",
    "# reset values\n",
    "startMoney = 10000\n",
    "crntMoney = startMoney\n",
    "nrStocks = 0 \n",
    "\n",
    "## NEW: portfolioValue\n",
    "portfolioValue = []\n",
    "\n",
    "for i,(crntPrice,sma5,sma20) in enumerate(data[[\"Close\",\"SMA_5\",\"SMA_20\"]].values):\n",
    "    if i > 0:\n",
    "        crntHoldings = nrStocks\n",
    "        sma5_yesterday = data[\"SMA_5\"][i-1]\n",
    "        sma20_yesterday = data[\"SMA_20\"][i-1]\n",
    "\n",
    "        # start the logic\n",
    "        if sma5_yesterday <= sma20_yesterday and sma5 > sma20:\n",
    "            # if sma5 has been below or equal sma20 yesterday, and now it crossed upwards -> upwardstrend\n",
    "            if crntHoldings == 0: # and we do not have stocks yet\n",
    "                print(data.index[i],\" Buying stock for %.2f$\" % crntPrice)\n",
    "                crntMoney,nrStocks = longBuy(crntMoney,nrStocks,crntPrice)\n",
    "        elif sma5_yesterday >= sma20_yesterday and sma5 < sma20:\n",
    "            # if sma5 has been above or equal sma20 yesterday, and now it crossed downwards -> downwardstrend\n",
    "            if crntHoldings > 0: # can only sell if we have any stocks\n",
    "                print(data.index[i],\" Selling stock for %.2f$\" % crntPrice)\n",
    "                crntMoney,nrStocks = longSell(crntMoney,nrStocks,crntPrice)\n",
    "        ## NEW: portfolioValue -> use the same logic as our previous final caluclation, just for each day\n",
    "        portfolioValue.append(crntMoney + (nrStocks * crntPrice))\n",
    "\n",
    "print(\"\\n\\nYour portfolio value is: %.2f$\" % portfolioValue[-1])\n",
    "earnings = portfolioValue[-1] - startMoney\n",
    "print(\"Which is a win of: %.2f$\" % earnings)\n",
    "\n",
    "plt.plot(portfolioValue)\n",
    "plt.title(\"Portfolio Value in USD\")"
   ]
  }
 ],
 "metadata": {
  "kernelspec": {
   "display_name": "Python 3",
   "language": "python",
   "name": "python3"
  },
  "language_info": {
   "codemirror_mode": {
    "name": "ipython",
    "version": 3
   },
   "file_extension": ".py",
   "mimetype": "text/x-python",
   "name": "python",
   "nbconvert_exporter": "python",
   "pygments_lexer": "ipython3",
   "version": "3.9.1"
  }
 },
 "nbformat": 4,
 "nbformat_minor": 5
}
