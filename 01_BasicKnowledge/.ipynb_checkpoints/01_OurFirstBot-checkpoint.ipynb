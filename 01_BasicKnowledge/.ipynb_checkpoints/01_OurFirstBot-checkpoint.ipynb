{
 "cells": [
  {
   "cell_type": "markdown",
   "id": "299ddeae",
   "metadata": {},
   "source": [
    "# importing the libraries\n",
    "\n",
    "First things first we are going to import the necessary libraries:\n",
    "- pandas - a really nice package to handle data and visualize and edit it\n",
    "- matplotlib - a data visualization tool\n",
    "- numpy - a library to edit arrays of numbers specifically, pandas uses this mostly in the background \n",
    "- yfinance - an easy solution to download financial data from https://finance.yahoo.com/"
   ]
  },
  {
   "cell_type": "code",
   "execution_count": 35,
   "id": "da7cff81",
   "metadata": {},
   "outputs": [],
   "source": [
    "import pandas as pd\n",
    "import matplotlib.pyplot as plt\n",
    "import numpy as np\n",
    "import yfinance as yf\n",
    "from datetime import datetime\n",
    "from tqdm import tqdm"
   ]
  },
  {
   "cell_type": "markdown",
   "id": "8364a982",
   "metadata": {},
   "source": [
    "# Downloading your first financial data\n",
    "\n",
    "For this we will be needing three things:\n",
    "- stockname: the ticker as in yahoo finance, e.g. MSFT, AAPL, BTCUSD=X\n",
    "- interval: what tick interval do we want? like 5m for OHLCV data in 5 minute buckets, 1h for 1 hour buckets\n",
    "- - valid intervals: 1m,2m,5m,15m,30m,60m,90m,1h,1d,5d,1wk,1mo,3mo\n",
    "- period: the \"lookback\" of the data, e.g. 1y is one year back and so on\n",
    "- - valid periods: 1d,5d,1mo,3mo,6mo,1y,2y,5y,10y,ytd,max\n",
    "\n",
    "yfinance downloads the data directly into a pandas dataframe, which you can think of as something similar to an Excel sheet. "
   ]
  },
  {
   "cell_type": "code",
   "execution_count": 3,
   "id": "e925358d",
   "metadata": {},
   "outputs": [
    {
     "name": "stdout",
     "output_type": "stream",
     "text": [
      "[*********************100%***********************]  1 of 1 completed\n"
     ]
    }
   ],
   "source": [
    "data = yf.download(\"AAPL\",interval=\"1d\",period=\"3mo\")"
   ]
  },
  {
   "cell_type": "code",
   "execution_count": 4,
   "id": "6842eed9",
   "metadata": {},
   "outputs": [
    {
     "data": {
      "text/html": [
       "<div>\n",
       "<style scoped>\n",
       "    .dataframe tbody tr th:only-of-type {\n",
       "        vertical-align: middle;\n",
       "    }\n",
       "\n",
       "    .dataframe tbody tr th {\n",
       "        vertical-align: top;\n",
       "    }\n",
       "\n",
       "    .dataframe thead th {\n",
       "        text-align: right;\n",
       "    }\n",
       "</style>\n",
       "<table border=\"1\" class=\"dataframe\">\n",
       "  <thead>\n",
       "    <tr style=\"text-align: right;\">\n",
       "      <th></th>\n",
       "      <th>Open</th>\n",
       "      <th>High</th>\n",
       "      <th>Low</th>\n",
       "      <th>Close</th>\n",
       "      <th>Adj Close</th>\n",
       "      <th>Volume</th>\n",
       "    </tr>\n",
       "    <tr>\n",
       "      <th>Date</th>\n",
       "      <th></th>\n",
       "      <th></th>\n",
       "      <th></th>\n",
       "      <th></th>\n",
       "      <th></th>\n",
       "      <th></th>\n",
       "    </tr>\n",
       "  </thead>\n",
       "  <tbody>\n",
       "    <tr>\n",
       "      <th>2021-01-25</th>\n",
       "      <td>143.070007</td>\n",
       "      <td>145.089996</td>\n",
       "      <td>136.539993</td>\n",
       "      <td>142.919998</td>\n",
       "      <td>142.706757</td>\n",
       "      <td>157611700</td>\n",
       "    </tr>\n",
       "    <tr>\n",
       "      <th>2021-01-26</th>\n",
       "      <td>143.600006</td>\n",
       "      <td>144.300003</td>\n",
       "      <td>141.369995</td>\n",
       "      <td>143.160004</td>\n",
       "      <td>142.946396</td>\n",
       "      <td>98390600</td>\n",
       "    </tr>\n",
       "    <tr>\n",
       "      <th>2021-01-27</th>\n",
       "      <td>143.429993</td>\n",
       "      <td>144.300003</td>\n",
       "      <td>140.410004</td>\n",
       "      <td>142.059998</td>\n",
       "      <td>141.848038</td>\n",
       "      <td>140843800</td>\n",
       "    </tr>\n",
       "    <tr>\n",
       "      <th>2021-01-28</th>\n",
       "      <td>139.520004</td>\n",
       "      <td>141.990005</td>\n",
       "      <td>136.699997</td>\n",
       "      <td>137.089996</td>\n",
       "      <td>136.885452</td>\n",
       "      <td>142621100</td>\n",
       "    </tr>\n",
       "    <tr>\n",
       "      <th>2021-01-29</th>\n",
       "      <td>135.830002</td>\n",
       "      <td>136.740005</td>\n",
       "      <td>130.210007</td>\n",
       "      <td>131.960007</td>\n",
       "      <td>131.763107</td>\n",
       "      <td>177180600</td>\n",
       "    </tr>\n",
       "  </tbody>\n",
       "</table>\n",
       "</div>"
      ],
      "text/plain": [
       "                  Open        High         Low       Close   Adj Close  \\\n",
       "Date                                                                     \n",
       "2021-01-25  143.070007  145.089996  136.539993  142.919998  142.706757   \n",
       "2021-01-26  143.600006  144.300003  141.369995  143.160004  142.946396   \n",
       "2021-01-27  143.429993  144.300003  140.410004  142.059998  141.848038   \n",
       "2021-01-28  139.520004  141.990005  136.699997  137.089996  136.885452   \n",
       "2021-01-29  135.830002  136.740005  130.210007  131.960007  131.763107   \n",
       "\n",
       "               Volume  \n",
       "Date                   \n",
       "2021-01-25  157611700  \n",
       "2021-01-26   98390600  \n",
       "2021-01-27  140843800  \n",
       "2021-01-28  142621100  \n",
       "2021-01-29  177180600  "
      ]
     },
     "execution_count": 4,
     "metadata": {},
     "output_type": "execute_result"
    }
   ],
   "source": [
    "# have a look at the data\n",
    "data.head()"
   ]
  },
  {
   "cell_type": "markdown",
   "id": "44ff9698",
   "metadata": {},
   "source": [
    "## Exploring OHLCV data\n",
    "\n",
    "So what does Open, High, Low, Close, Adj Close and Volume mean?\n",
    "\n",
    "The \"normal\" way stock data is arriving is called tick data, meaning if a trade occurs, the data submitted would contain:\n",
    "- Symbol\n",
    "- Timestamp\n",
    "- Price\n",
    "- Quantity\n",
    "\n",
    "E.g. on the 2021-01-25 11:05:12.0021 a trade occured with MSFT at price 101.12 and a quantity of 2 stocks.\n",
    "\n",
    "Simplified a number of trades could look like this:\n",
    "- 11:05 MSFT 101.12 2\n",
    "- 11:05 MSFT 101.11 1\n",
    "- 11:07 MSFT 101.13 3\n",
    "- 11:12 MSFT 102.10 5\n",
    "\n",
    "\n",
    "Now this can be quite confusing for an algorithm, as algorithms love equal time differences, and not inequal ones like in tick data. Therefore the data is aggregated into buckets, which are kind of like statistical summaries of the values in a specific timeframe. E.g. with the above example if divided into 5-minute buckets, the first three trades would be summarized into a bucket, and the last one into the next one (minute 0-4, minute 5-9, minute 10-14, ...).\n",
    "In terms of OHLCV data (open, high, low, close, volume), this means, that for this bucket, the first and last entry are taken (open and close), the highest one (high), and the lowest one (low).\n",
    "Volume is the sum of stocks traded, e.g. the sum of the Quantity.\n",
    "\n",
    "In our example this would mean:\n",
    "\n",
    "Bucket 11:05-11:09:\n",
    "- Open (first timestamp) = 101.12\n",
    "- High Maximum(101.12, 101.11, 101.13) = 101.13\n",
    "- Low Minimum(101.12, 101.11, 101.13) = 101.11\n",
    "- Close (last timestamp) = 101.13\n",
    "- Volume Sum(2, 1, 3, 5) = 11\n",
    "\n",
    "There is also a python function for this, which you will only need if you are dealing with OHLCV data:"
   ]
  },
  {
   "cell_type": "code",
   "execution_count": 13,
   "id": "0311215c",
   "metadata": {},
   "outputs": [
    {
     "data": {
      "text/html": [
       "<div>\n",
       "<style scoped>\n",
       "    .dataframe tbody tr th:only-of-type {\n",
       "        vertical-align: middle;\n",
       "    }\n",
       "\n",
       "    .dataframe tbody tr th {\n",
       "        vertical-align: top;\n",
       "    }\n",
       "\n",
       "    .dataframe thead th {\n",
       "        text-align: right;\n",
       "    }\n",
       "</style>\n",
       "<table border=\"1\" class=\"dataframe\">\n",
       "  <thead>\n",
       "    <tr style=\"text-align: right;\">\n",
       "      <th></th>\n",
       "      <th>stock</th>\n",
       "      <th>price</th>\n",
       "      <th>quantity</th>\n",
       "    </tr>\n",
       "    <tr>\n",
       "      <th>timestamp</th>\n",
       "      <th></th>\n",
       "      <th></th>\n",
       "      <th></th>\n",
       "    </tr>\n",
       "  </thead>\n",
       "  <tbody>\n",
       "    <tr>\n",
       "      <th>2021-04-12 17:18:01</th>\n",
       "      <td>MSFT</td>\n",
       "      <td>260.22</td>\n",
       "      <td>2</td>\n",
       "    </tr>\n",
       "    <tr>\n",
       "      <th>2021-04-12 17:18:02</th>\n",
       "      <td>MSFT</td>\n",
       "      <td>261.22</td>\n",
       "      <td>9</td>\n",
       "    </tr>\n",
       "    <tr>\n",
       "      <th>2021-04-12 17:18:02</th>\n",
       "      <td>MSFT</td>\n",
       "      <td>260.23</td>\n",
       "      <td>22</td>\n",
       "    </tr>\n",
       "    <tr>\n",
       "      <th>2021-04-12 17:18:05</th>\n",
       "      <td>MSFT</td>\n",
       "      <td>262.22</td>\n",
       "      <td>2</td>\n",
       "    </tr>\n",
       "    <tr>\n",
       "      <th>2021-04-12 17:18:30</th>\n",
       "      <td>MSFT</td>\n",
       "      <td>265.22</td>\n",
       "      <td>200</td>\n",
       "    </tr>\n",
       "  </tbody>\n",
       "</table>\n",
       "</div>"
      ],
      "text/plain": [
       "                    stock   price  quantity\n",
       "timestamp                                  \n",
       "2021-04-12 17:18:01  MSFT  260.22         2\n",
       "2021-04-12 17:18:02  MSFT  261.22         9\n",
       "2021-04-12 17:18:02  MSFT  260.23        22\n",
       "2021-04-12 17:18:05  MSFT  262.22         2\n",
       "2021-04-12 17:18:30  MSFT  265.22       200"
      ]
     },
     "execution_count": 13,
     "metadata": {},
     "output_type": "execute_result"
    }
   ],
   "source": [
    "tickdata = [\n",
    "    # timestamp, stock, price, quantity\n",
    "    [datetime(2021, 4, 12, 17, 18, 1), \"MSFT\", 260.22, 2],\n",
    "    [datetime(2021, 4, 12, 17, 18, 2), \"MSFT\", 261.22, 9],\n",
    "    [datetime(2021, 4, 12, 17, 18, 2), \"MSFT\", 260.23, 22],\n",
    "    [datetime(2021, 4, 12, 17, 18, 5), \"MSFT\", 262.22, 2],\n",
    "    [datetime(2021, 4, 12, 17, 18, 30), \"MSFT\", 265.22, 200],\n",
    "]\n",
    "columnnames = [\"timestamp\", \"stock\", \"price\", \"quantity\"]\n",
    "tickdata = pd.DataFrame(tickdata,columns=columnnames)\n",
    "tickdata = tickdata.set_index(\"timestamp\")\n",
    "tickdata.head()"
   ]
  },
  {
   "cell_type": "code",
   "execution_count": 27,
   "id": "93fe744f",
   "metadata": {},
   "outputs": [
    {
     "data": {
      "text/html": [
       "<div>\n",
       "<style scoped>\n",
       "    .dataframe tbody tr th:only-of-type {\n",
       "        vertical-align: middle;\n",
       "    }\n",
       "\n",
       "    .dataframe tbody tr th {\n",
       "        vertical-align: top;\n",
       "    }\n",
       "\n",
       "    .dataframe thead th {\n",
       "        text-align: right;\n",
       "    }\n",
       "</style>\n",
       "<table border=\"1\" class=\"dataframe\">\n",
       "  <thead>\n",
       "    <tr style=\"text-align: right;\">\n",
       "      <th></th>\n",
       "      <th>open</th>\n",
       "      <th>high</th>\n",
       "      <th>low</th>\n",
       "      <th>close</th>\n",
       "    </tr>\n",
       "    <tr>\n",
       "      <th>timestamp</th>\n",
       "      <th></th>\n",
       "      <th></th>\n",
       "      <th></th>\n",
       "      <th></th>\n",
       "    </tr>\n",
       "  </thead>\n",
       "  <tbody>\n",
       "    <tr>\n",
       "      <th>2021-04-30</th>\n",
       "      <td>260.22</td>\n",
       "      <td>265.22</td>\n",
       "      <td>260.22</td>\n",
       "      <td>265.22</td>\n",
       "    </tr>\n",
       "  </tbody>\n",
       "</table>\n",
       "</div>"
      ],
      "text/plain": [
       "              open    high     low   close\n",
       "timestamp                                 \n",
       "2021-04-30  260.22  265.22  260.22  265.22"
      ]
     },
     "execution_count": 27,
     "metadata": {},
     "output_type": "execute_result"
    }
   ],
   "source": [
    "data = tickdata['price'].resample('M').ohlc()\n",
    "data.head()\n",
    "# TODO"
   ]
  },
  {
   "cell_type": "markdown",
   "id": "063f05c4",
   "metadata": {},
   "source": [
    "# Visualizing our OHLC data\n",
    "\n"
   ]
  },
  {
   "cell_type": "code",
   "execution_count": 29,
   "id": "a6a50277",
   "metadata": {},
   "outputs": [
    {
     "name": "stdout",
     "output_type": "stream",
     "text": [
      "[*********************100%***********************]  1 of 1 completed\n"
     ]
    },
    {
     "data": {
      "text/html": [
       "<div>\n",
       "<style scoped>\n",
       "    .dataframe tbody tr th:only-of-type {\n",
       "        vertical-align: middle;\n",
       "    }\n",
       "\n",
       "    .dataframe tbody tr th {\n",
       "        vertical-align: top;\n",
       "    }\n",
       "\n",
       "    .dataframe thead th {\n",
       "        text-align: right;\n",
       "    }\n",
       "</style>\n",
       "<table border=\"1\" class=\"dataframe\">\n",
       "  <thead>\n",
       "    <tr style=\"text-align: right;\">\n",
       "      <th></th>\n",
       "      <th>Open</th>\n",
       "      <th>High</th>\n",
       "      <th>Low</th>\n",
       "      <th>Close</th>\n",
       "      <th>Adj Close</th>\n",
       "      <th>Volume</th>\n",
       "    </tr>\n",
       "    <tr>\n",
       "      <th>Date</th>\n",
       "      <th></th>\n",
       "      <th></th>\n",
       "      <th></th>\n",
       "      <th></th>\n",
       "      <th></th>\n",
       "      <th></th>\n",
       "    </tr>\n",
       "  </thead>\n",
       "  <tbody>\n",
       "    <tr>\n",
       "      <th>2021-01-25</th>\n",
       "      <td>143.070007</td>\n",
       "      <td>145.089996</td>\n",
       "      <td>136.539993</td>\n",
       "      <td>142.919998</td>\n",
       "      <td>142.706757</td>\n",
       "      <td>157611700</td>\n",
       "    </tr>\n",
       "    <tr>\n",
       "      <th>2021-01-26</th>\n",
       "      <td>143.600006</td>\n",
       "      <td>144.300003</td>\n",
       "      <td>141.369995</td>\n",
       "      <td>143.160004</td>\n",
       "      <td>142.946396</td>\n",
       "      <td>98390600</td>\n",
       "    </tr>\n",
       "    <tr>\n",
       "      <th>2021-01-27</th>\n",
       "      <td>143.429993</td>\n",
       "      <td>144.300003</td>\n",
       "      <td>140.410004</td>\n",
       "      <td>142.059998</td>\n",
       "      <td>141.848038</td>\n",
       "      <td>140843800</td>\n",
       "    </tr>\n",
       "    <tr>\n",
       "      <th>2021-01-28</th>\n",
       "      <td>139.520004</td>\n",
       "      <td>141.990005</td>\n",
       "      <td>136.699997</td>\n",
       "      <td>137.089996</td>\n",
       "      <td>136.885452</td>\n",
       "      <td>142621100</td>\n",
       "    </tr>\n",
       "    <tr>\n",
       "      <th>2021-01-29</th>\n",
       "      <td>135.830002</td>\n",
       "      <td>136.740005</td>\n",
       "      <td>130.210007</td>\n",
       "      <td>131.960007</td>\n",
       "      <td>131.763107</td>\n",
       "      <td>177180600</td>\n",
       "    </tr>\n",
       "  </tbody>\n",
       "</table>\n",
       "</div>"
      ],
      "text/plain": [
       "                  Open        High         Low       Close   Adj Close  \\\n",
       "Date                                                                     \n",
       "2021-01-25  143.070007  145.089996  136.539993  142.919998  142.706757   \n",
       "2021-01-26  143.600006  144.300003  141.369995  143.160004  142.946396   \n",
       "2021-01-27  143.429993  144.300003  140.410004  142.059998  141.848038   \n",
       "2021-01-28  139.520004  141.990005  136.699997  137.089996  136.885452   \n",
       "2021-01-29  135.830002  136.740005  130.210007  131.960007  131.763107   \n",
       "\n",
       "               Volume  \n",
       "Date                   \n",
       "2021-01-25  157611700  \n",
       "2021-01-26   98390600  \n",
       "2021-01-27  140843800  \n",
       "2021-01-28  142621100  \n",
       "2021-01-29  177180600  "
      ]
     },
     "execution_count": 29,
     "metadata": {},
     "output_type": "execute_result"
    }
   ],
   "source": [
    "data = yf.download(\"AAPL\",interval=\"1d\",period=\"3mo\")\n",
    "data.head()"
   ]
  },
  {
   "cell_type": "code",
   "execution_count": 30,
   "id": "858439be",
   "metadata": {},
   "outputs": [
    {
     "data": {
      "text/plain": [
       "[<matplotlib.lines.Line2D at 0x7f50a00fc880>]"
      ]
     },
     "execution_count": 30,
     "metadata": {},
     "output_type": "execute_result"
    },
    {
     "data": {
      "image/png": "[encoded data removed]",
      "text/plain": [
       "<Figure size 432x288 with 1 Axes>"
      ]
     },
     "metadata": {
      "needs_background": "light"
     },
     "output_type": "display_data"
    }
   ],
   "source": [
    "plt.plot(data[\"Close\"])"
   ]
  },
  {
   "cell_type": "markdown",
   "id": "c1e5b1bc",
   "metadata": {},
   "source": [
    "# our first (stupid) trading logic\n",
    "\n",
    "Let us take a look at the actions that our bot can take:\n",
    "- Buy a stock\n",
    "- Sell a stock\n",
    "- Hold (do nothing)\n",
    "\n",
    "To get an understanding let us program a really simple trading logic"
   ]
  },
  {
   "cell_type": "code",
   "execution_count": 32,
   "id": "f8acdaba",
   "metadata": {},
   "outputs": [],
   "source": [
    "startMoney = 10000\n",
    "crntMoney = startMoney\n",
    "nrStocks = 0 \n",
    "\n",
    "# this function symbolizes the buying process of a long stock\n",
    "def longBuy(crntMoney,nrStocks,crntPrice):\n",
    "    # get a whole number of how many stocks we can buy with our money\n",
    "    howMany = int(crntMoney/crntPrice)\n",
    "    cost = howMany * crntPrice\n",
    "    # substract that cost from our current Money\n",
    "    crntMoney -= cost\n",
    "    # add the nr of stocks we just bought to out nrStocks tracker\n",
    "    nrStocks += howMany\n",
    "    return crntMoney,nrStocks\n",
    "\n",
    "def longSell(crntMoney,nrStocks,crntPrice):\n",
    "    # pay out the amount of stocks times current Price\n",
    "    crntMoney += nrStocks * crntPrice\n",
    "    nrStocks -= nrStocks # we could set it to 0, but we want to symbolize the trade logic\n",
    "    return crntMoney,nrStocks"
   ]
  },
  {
   "cell_type": "markdown",
   "id": "b7f44f6b",
   "metadata": {},
   "source": [
    "Our first logic will be super simple: If the current Price is bigger than yesterday buy or hold (if we already bought a stock), or sell if the price is lower than yesterday"
   ]
  },
  {
   "cell_type": "code",
   "execution_count": 44,
   "id": "9d64f6e9",
   "metadata": {},
   "outputs": [
    {
     "name": "stdout",
     "output_type": "stream",
     "text": [
      "2021-01-26 00:00:00  Buying stock for 143.16$\n",
      "2021-01-27 00:00:00  Selling stock for 142.06$\n",
      "2021-02-01 00:00:00  Buying stock for 134.14$\n",
      "2021-02-03 00:00:00  Selling stock for 133.94$\n",
      "2021-02-04 00:00:00  Buying stock for 137.39$\n",
      "2021-02-05 00:00:00  Selling stock for 136.76$\n",
      "2021-02-08 00:00:00  Buying stock for 136.91$\n",
      "2021-02-09 00:00:00  Selling stock for 136.01$\n",
      "2021-02-12 00:00:00  Buying stock for 135.37$\n",
      "2021-02-16 00:00:00  Selling stock for 133.19$\n",
      "2021-02-19 00:00:00  Buying stock for 129.87$\n",
      "2021-02-22 00:00:00  Selling stock for 126.00$\n",
      "2021-02-26 00:00:00  Buying stock for 121.26$\n",
      "2021-03-02 00:00:00  Selling stock for 125.12$\n",
      "2021-03-05 00:00:00  Buying stock for 121.42$\n",
      "2021-03-08 00:00:00  Selling stock for 116.36$\n",
      "2021-03-09 00:00:00  Buying stock for 121.09$\n",
      "2021-03-10 00:00:00  Selling stock for 119.98$\n",
      "2021-03-11 00:00:00  Buying stock for 121.96$\n",
      "2021-03-12 00:00:00  Selling stock for 121.03$\n",
      "2021-03-15 00:00:00  Buying stock for 123.99$\n",
      "2021-03-17 00:00:00  Selling stock for 124.76$\n",
      "2021-03-22 00:00:00  Buying stock for 123.39$\n",
      "2021-03-23 00:00:00  Selling stock for 122.54$\n",
      "2021-03-25 00:00:00  Buying stock for 120.59$\n",
      "2021-03-30 00:00:00  Selling stock for 119.90$\n",
      "2021-03-31 00:00:00  Buying stock for 122.15$\n",
      "2021-04-12 00:00:00  Selling stock for 131.24$\n",
      "2021-04-13 00:00:00  Buying stock for 134.43$\n",
      "2021-04-14 00:00:00  Selling stock for 132.03$\n",
      "2021-04-15 00:00:00  Buying stock for 134.50$\n",
      "2021-04-16 00:00:00  Selling stock for 134.16$\n",
      "2021-04-19 00:00:00  Buying stock for 134.84$\n",
      "2021-04-20 00:00:00  Selling stock for 133.11$\n",
      "2021-04-21 00:00:00  Buying stock for 133.50$\n",
      "2021-04-22 00:00:00  Selling stock for 131.94$\n",
      "2021-04-23 00:00:00  Buying stock for 134.16$\n",
      "\n",
      "\n",
      "Your portfolio value is: 9286.69$\n",
      "Which is a win of: -713.31$\n"
     ]
    }
   ],
   "source": [
    "# tqdm is showing us a progress bar, but basically we are just looping through our Close prices in the data array\n",
    "\n",
    "# reset values\n",
    "startMoney = 10000\n",
    "crntMoney = startMoney\n",
    "nrStocks = 0 \n",
    "\n",
    "for i,crntPrice in enumerate(data[\"Close\"]):\n",
    "    if i > 0: # skip the first one as this would crash our \"yesterday\" logic\n",
    "        crntHoldings = nrStocks\n",
    "        yesterday = data[\"Close\"][i-1]\n",
    "        # start the logic\n",
    "        if crntPrice > yesterday and crntHoldings == 0:\n",
    "            # if todays price bigger than yesterday and we have no stocks\n",
    "            print(data.index[i],\" Buying stock for %.2f$\" % crntPrice)\n",
    "            crntMoney,nrStocks = longBuy(crntMoney,nrStocks,crntPrice)\n",
    "        elif crntPrice > yesterday and crntHoldings != 0:\n",
    "            # hold because we already purchased stocks!\n",
    "            pass # do nothing for now\n",
    "        elif crntPrice < yesterday and crntHoldings > 0:\n",
    "            # if current Price lower than yesterday and we have stocks in our portfolio\n",
    "            print(data.index[i],\" Selling stock for %.2f$\" % crntPrice)\n",
    "            crntMoney,nrStocks = longSell(crntMoney,nrStocks,crntPrice)\n",
    "# in the end calculate the value of our portfolio, which is the cash value (crntMoney), and the nrStocks value\n",
    "portfolioValue = crntMoney + (nrStocks * crntPrice)\n",
    "\n",
    "print(\"\\n\\nYour portfolio value is: %.2f$\" % portfolioValue)\n",
    "earnings = portfolioValue - startMoney\n",
    "print(\"Which is a win of: %.2f$\" % earnings)"
   ]
  },
  {
   "cell_type": "markdown",
   "id": "0742c163",
   "metadata": {},
   "source": [
    "# Summary\n",
    "\n",
    "Now this has just been a really simple approach, and we ignored a lot of errors and mistakes along the way. But this was supposed to be a brief introduction into the topics of writing trading bots. Stay tuned for more!"
   ]
  }
 ],
 "metadata": {
  "kernelspec": {
   "display_name": "Python 3",
   "language": "python",
   "name": "python3"
  },
  "language_info": {
   "codemirror_mode": {
    "name": "ipython",
    "version": 3
   },
   "file_extension": ".py",
   "mimetype": "text/x-python",
   "name": "python",
   "nbconvert_exporter": "python",
   "pygments_lexer": "ipython3",
   "version": "3.9.1"
  }
 },
 "nbformat": 4,
 "nbformat_minor": 5
}
